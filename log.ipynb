{
 "cells": [
  {
   "cell_type": "markdown",
   "metadata": {},
   "source": [
    "# 100 Days Of ML Code\n",
    "https://github.com/llSourcell/100_Days_of_ML_Code\n",
    "\n",
    "## The Rules\n",
    "There are only 3 rules.\n",
    "\n",
    "    1 Make a public pledge using the #100DaysofMLCode hashtag on your favorite social media platform.\n",
    "    2 Make a public log of your work that you update daily, you can do this via GitHub a blog or a vlog.\n",
    "    3. if you see someone make a post using the #100DaysofMLCode hashtag, give it a like share or comment.\n",
    "\n",
    "## Day 0: 2016-07-06\n",
    "\n",
    "\n",
    "**Today's Goals**\n",
    "\n",
    " * Accept the challenge - Done\n",
    " * Create GitHub Repository for daily log - Done\n",
    " * Identify one ML course to complete. - Done\n",
    " * Identify potenital projects.  - In progress.  Self-imposed deadline for choosing a project, 2018-07-21.  \n",
    "\n",
    "**Thoughts:** The first course for my 100 day challenge is Andrew Ng's Machine Learning course on Coursera https://www.coursera.org/learn/machine-learning.  Looking forward to the next 100 days!\n"
   ]
  },
  {
   "cell_type": "code",
   "execution_count": null,
   "metadata": {},
   "outputs": [],
   "source": []
  }
 ],
 "metadata": {
  "kernelspec": {
   "display_name": "Python [default]",
   "language": "python",
   "name": "python3"
  },
  "language_info": {
   "codemirror_mode": {
    "name": "ipython",
    "version": 3
   },
   "file_extension": ".py",
   "mimetype": "text/x-python",
   "name": "python",
   "nbconvert_exporter": "python",
   "pygments_lexer": "ipython3",
   "version": "3.6.6"
  }
 },
 "nbformat": 4,
 "nbformat_minor": 2
}
